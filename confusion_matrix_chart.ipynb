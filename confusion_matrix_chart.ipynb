{
 "cells": [
  {
   "cell_type": "markdown",
   "metadata": {},
   "source": [
    "# Confusion matrix chart"
   ]
  },
  {
   "cell_type": "markdown",
   "metadata": {},
   "source": [
    "Content: This notebook implements the confusion matrix chart i.e. the confusion matrix with a number of graphical decorators. \n",
    "\n",
    "Author: Søren Laursen (https://www.linkedin.com/in/soren02laursen/)\n",
    "\n",
    "Further reading: The confusion matrix chart is the subject of an article on Towards Data Science: https://towardsdatascience.com/the-confusion-matrix-visualized-e778584c8834."
   ]
  },
  {
   "cell_type": "markdown",
   "metadata": {},
   "source": [
    "## Imports"
   ]
  },
  {
   "cell_type": "code",
   "execution_count": 1,
   "metadata": {
    "ExecuteTime": {
     "end_time": "2020-04-21T13:23:33.322115Z",
     "start_time": "2020-04-21T13:23:32.072357Z"
    }
   },
   "outputs": [],
   "source": [
    "import pandas as pd\n",
    "import numpy as np\n",
    "import altair as alt"
   ]
  },
  {
   "cell_type": "markdown",
   "metadata": {},
   "source": [
    "## Odss Ratio calculations"
   ]
  },
  {
   "cell_type": "code",
   "execution_count": 2,
   "metadata": {
    "ExecuteTime": {
     "end_time": "2020-04-21T13:23:33.338722Z",
     "start_time": "2020-04-21T13:23:33.325117Z"
    }
   },
   "outputs": [],
   "source": [
    "critical_value_dict = {70:1.04, 75:1.15, 80:1.28, 85:1.44, 90:1.64 , 95:1.96 , 98:2.33 , 99:2.58}\n",
    "\n",
    "def odds_ratio(a, b, c, d):\n",
    "    if a==0 or np.isnan(a) or b==0 or np.isnan(b) or c==0 or np.isnan(c) or d==0 or np.isnan(d):\n",
    "        a = 0.5 if np.isnan(a) else a + 0.5\n",
    "        b = 0.5 if np.isnan(b) else b + 0.5\n",
    "        c = 0.5 if np.isnan(c) else c + 0.5\n",
    "        d = 0.5 if np.isnan(d) else d + 0.5\n",
    "\n",
    "    return (a*d)/(b*c)\n",
    "\n",
    "def odds_ratio_lower_ci(OR, a, b, c, d, confidence_level):\n",
    "    if a==0 or np.isnan(a) or b==0 or np.isnan(b) or c==0 or np.isnan(c) or d==0 or np.isnan(d):\n",
    "        a = 0.5 if np.isnan(a) else a + 0.5\n",
    "        b = 0.5 if np.isnan(b) else b + 0.5\n",
    "        c = 0.5 if np.isnan(c) else c + 0.5\n",
    "        d = 0.5 if np.isnan(d) else d + 0.5\n",
    "\n",
    "    return np.exp(np.log(OR) - critical_value_dict[confidence_level]*np.sqrt(1/a + 1/b + 1/c + 1/d))\n",
    "\n",
    "def odds_ratio_upper_ci(OR, a, b, c, d, confidence_level):\n",
    "    if a==0 or np.isnan(a) or b==0 or np.isnan(b) or c==0 or np.isnan(c) or d==0 or np.isnan(d):\n",
    "        a = 0.5 if np.isnan(a) else a + 0.5\n",
    "        b = 0.5 if np.isnan(b) else b + 0.5\n",
    "        c = 0.5 if np.isnan(c) else c + 0.5\n",
    "        d = 0.5 if np.isnan(d) else d + 0.5\n",
    "\n",
    "    return np.exp(np.log(OR) + critical_value_dict[confidence_level]*np.sqrt(1/a + 1/b + 1/c + 1/d))\n"
   ]
  },
  {
   "cell_type": "markdown",
   "metadata": {},
   "source": [
    "## Derive confusion matrix data"
   ]
  },
  {
   "cell_type": "code",
   "execution_count": 3,
   "metadata": {
    "ExecuteTime": {
     "end_time": "2020-04-21T13:23:33.394817Z",
     "start_time": "2020-04-21T13:23:33.341597Z"
    }
   },
   "outputs": [],
   "source": [
    "def confusion_matrix_data(Yy, Yn, Ny, Nn):\n",
    "    CM = pd.DataFrame({'label':['Yy','Yn','Ny','Nn', \n",
    "                                'y|Y','n|Y','n|N','y|N',\n",
    "                                'Y|y','N|y','N|n','Y|n',\n",
    "                                'Y','N','y','n',\n",
    "                                'Y*','N*','y*','n*',\n",
    "                                'OR_lci90','OR_lci95','OR_lci99','OR','OR_uci90','OR_uci95','OR_uci99', '1',\n",
    "                                'ACC','ACC-','F1','F1-'], \n",
    "                       'value':[Yy,  Yn,  Ny,  Nn,   \n",
    "                                0 if Yy+Yn==0 else Yy/(Yy+Yn), \n",
    "                                0 if Yy+Yn==0 else Yn/(Yy+Yn), \n",
    "                                0 if Ny+Nn==0 else Nn/(Ny+Nn), \n",
    "                                0 if Ny+Nn==0 else Ny/(Ny+Nn),\n",
    "                                0 if Yy+Ny==0 else Yy/(Yy+Ny), \n",
    "                                0 if Yy+Ny==0 else Ny/(Yy+Ny), \n",
    "                                0 if Yn+Nn==0 else Nn/(Yn+Nn), \n",
    "                                0 if Yn+Nn==0 else Yn/(Yn+Nn),\n",
    "                                Yy+Yn, Ny+Nn, Yy+Ny, Yn+Nn, \n",
    "                                (Yy+Yn)/(Yy+Yn+Ny+Nn), (Ny+Nn)/(Yy+Yn+Ny+Nn), \n",
    "                                (Yy+Ny)/(Yy+Yn+Ny+Nn), (Yn+Nn)/(Yy+Yn+Ny+Nn),\n",
    "                                odds_ratio_lower_ci(odds_ratio(Yy, Yn, Ny, Nn), Yy, Yn, Ny, Nn, 90), \n",
    "                                odds_ratio_lower_ci(odds_ratio(Yy, Yn, Ny, Nn), Yy, Yn, Ny, Nn, 95), \n",
    "                                odds_ratio_lower_ci(odds_ratio(Yy, Yn, Ny, Nn), Yy, Yn, Ny, Nn, 99), \n",
    "                                odds_ratio(Yy, Yn, Ny, Nn), \n",
    "                                odds_ratio_upper_ci(odds_ratio(Yy, Yn, Ny, Nn), Yy, Yn, Ny, Nn, 90), \n",
    "                                odds_ratio_upper_ci(odds_ratio(Yy, Yn, Ny, Nn), Yy, Yn, Ny, Nn, 95), \n",
    "                                odds_ratio_upper_ci(odds_ratio(Yy, Yn, Ny, Nn), Yy, Yn, Ny, Nn, 99), \n",
    "                                1,\n",
    "                                (Yy+Nn)/(Yy+Yn+Ny+Nn), (Yn+Ny)/(Yy+Yn+Ny+Nn),\n",
    "                                0 if Yy==0 or Yy+Yn==0 or Yy+Ny==0 else 2 * ((Yy/(Yy+Yn)) * (Yy/(Yy+Ny))) / ((Yy/(Yy+Yn)) + (Yy/(Yy+Ny))),\n",
    "                                1 if Yy==0 or Yy+Yn==0 or Yy+Ny==0 else 1 - (2 * ((Yy/(Yy+Yn)) * (Yy/(Yy+Ny))) / ((Yy/(Yy+Yn)) + (Yy/(Yy+Ny))))\n",
    "                               ]})\n",
    "\n",
    "\n",
    "    colours = alt.Scale(domain=['Yy','Yn','Ny','Nn', \n",
    "                                'y|Y','n|Y','n|N','y|N',\n",
    "                                'Y|y','N|y','N|n','Y|n',\n",
    "                                'Y','N','y','n',\n",
    "                                'Y*','N*',\n",
    "                                'y*','n*',\n",
    "                                'OR_lci90','OR_lci95','OR_lci99','OR','OR_uci90','OR_uci95','OR_uci99', '1',\n",
    "                                'ACC','ACC-','F1','F1-'], \n",
    "                        range =['snow', 'snow','snow', 'snow',\n",
    "                                'forestgreen','palegreen','powderblue','cadetblue',\n",
    "                                'forestgreen','cadetblue','powderblue','palegreen',\n",
    "                                'goldenrod','gold','goldenrod','gold',\n",
    "                                'goldenrod','gold',\n",
    "                                'goldenrod','gold',\n",
    "                                'dodgerblue','deepskyblue','lightskyblue','blue',\n",
    "                                'dodgerblue','deepskyblue','lightskyblue','darkorange',\n",
    "                                'goldenrod','gold','goldenrod','gold'\n",
    "                               ])\n",
    "    return CM, colours\n"
   ]
  },
  {
   "cell_type": "markdown",
   "metadata": {},
   "source": [
    "## Create confusion matrix chart"
   ]
  },
  {
   "cell_type": "code",
   "execution_count": 4,
   "metadata": {
    "ExecuteTime": {
     "end_time": "2020-04-21T13:23:33.422049Z",
     "start_time": "2020-04-21T13:23:33.397148Z"
    }
   },
   "outputs": [],
   "source": [
    "def cf_v_bar(CM, colours, label_list, sort_order, w_factor, h_factor, sf):\n",
    "    bar = alt.Chart(CM.loc[CM['label'].isin(label_list)]).mark_bar(size=w_factor*sf).encode(\n",
    "        y=alt.Y('sum(value)', stack='normalize', title=None, axis=None),\n",
    "        color=alt.Color('label', scale = colours, legend=None),\n",
    "        order=alt.Order('label', sort=sort_order),\n",
    "        tooltip=['value']\n",
    "    ).properties(width=w_factor*sf, height=h_factor*sf) \n",
    "    \n",
    "    return bar\n",
    "\n",
    "def cf_h_bar(CM, colours, label_list, sort_order, w_factor, h_factor, sf):\n",
    "    bar = alt.Chart(CM.loc[CM['label'].isin(label_list)]).mark_bar(size=h_factor*sf).encode(\n",
    "        x=alt.X('sum(value)', stack='normalize', title=None, axis=None),\n",
    "        color=alt.Color('label', scale = colours, legend=None),\n",
    "        order=alt.Order('label', sort=sort_order),\n",
    "        tooltip=['value']\n",
    "    ).properties(width=w_factor*sf, height=h_factor*sf) \n",
    "    \n",
    "    return bar\n",
    "\n",
    "\n",
    "def cf_text(CM, label, format, font_size, w_factor, dy_factor, sf):\n",
    "    text = alt.Chart(CM.loc[CM['label']==label]).mark_text(fontSize=font_size, color='black').encode(\n",
    "        text=alt.Text('sum(value)', format=format)\n",
    "    ).properties(width=w_factor*sf, height=w_factor*sf) \n",
    "\n",
    "    return text\n",
    "\n",
    "\n",
    "def confusion_matrix_chart(Yy, Yn, Ny, Nn):\n",
    "    \n",
    "    # Scaling factor\n",
    "    sf = 15  \n",
    "    \n",
    "    \n",
    "    # Derive chart data\n",
    "    CM, colours = confusion_matrix_data(Yy, Yn, Ny, Nn)\n",
    "    \n",
    "    \n",
    "    # FIRST ROW\n",
    "\n",
    "    text_Yy = cf_text(CM, label='Yy', format='.0f', font_size=36, \n",
    "                      w_factor=10, dy_factor=5, sf=sf)\n",
    "\n",
    "    bar_Y = cf_v_bar(CM, colours,\n",
    "                     label_list=['n|Y','y|Y'], sort_order='descending', \n",
    "                     w_factor=2, h_factor=10, sf=sf)\n",
    "    \n",
    "    text_Yn = cf_text(CM, label='Yn', format='.0f', font_size=36, \n",
    "                      w_factor=10, dy_factor=5, sf=sf)\n",
    "\n",
    "    # SECOND ROW\n",
    "    \n",
    "    bar_y = cf_h_bar(CM, colours,\n",
    "                     label_list=['Y|y','N|y'], sort_order='ascending', \n",
    "                     w_factor=10, h_factor=2, sf=sf)\n",
    "    \n",
    "    bar_a = cf_v_bar(CM, colours,\n",
    "                     label_list=['ACC','ACC-'], sort_order='ascending', \n",
    "                     w_factor=2, h_factor=2, sf=sf)\n",
    "    \n",
    "    bar_n = cf_h_bar(CM, colours,\n",
    "                     label_list=['N|n','Y|n'], sort_order='ascending', \n",
    "                     w_factor=10, h_factor=2, sf=sf)\n",
    "    \n",
    "    # THIRD ROW\n",
    "    \n",
    "    text_Ny = cf_text(CM, label='Ny', format='.0f', font_size=36, \n",
    "                      w_factor=10, dy_factor=5, sf=sf)\n",
    "\n",
    "    bar_N = cf_v_bar(CM, colours,\n",
    "                     label_list=['n|N','y|N'], sort_order='descending', \n",
    "                     w_factor=2, h_factor=10, sf=sf)\n",
    "    \n",
    "    text_Nn = cf_text(CM, label='Nn', format='.0f', font_size=36, \n",
    "                      w_factor=10, dy_factor=5, sf=sf)\n",
    "\n",
    "    \n",
    "    # FRAMING BARS\n",
    "    \n",
    "    # Left bar\n",
    "    bar_L = cf_v_bar(CM, colours,\n",
    "                     label_list=['Y*','N*'], sort_order='ascending', \n",
    "                     w_factor=2, h_factor=25, sf=sf)\n",
    "    \n",
    "    # Top left corner bar\n",
    "    bar_0 = cf_v_bar(CM, colours,\n",
    "                     label_list=['F1','F1-'], sort_order='ascending', \n",
    "                     w_factor=2, h_factor=2, sf=sf)\n",
    "    \n",
    "    # Top bar\n",
    "    bar_T = cf_h_bar(CM, colours,\n",
    "                     label_list=['y*','n*'], sort_order='descending', \n",
    "                     w_factor=25, h_factor=2, sf=sf)\n",
    "    \n",
    "    # Top right corner text\n",
    "    text_R = cf_text(CM, label='OR', format='.1f', font_size=12, w_factor=2, dy_factor=1, sf=sf)\n",
    "\n",
    "    # Right bar\n",
    "    bar_R = alt.Chart(CM.loc[\n",
    "        CM['label'].isin(['1','OR_lci90','OR_lci95','OR_lci99','OR','OR_uci90','OR_uci95','OR_uci99'])]\n",
    "                     ).mark_circle(opacity=0.8, stroke='black', strokeWidth=1, size=10*sf).encode(\n",
    "        y=alt.Y('value', title=None, axis=None),\n",
    "        color=alt.Color('label', scale = colours, legend=None),\n",
    "        order=alt.Order('label', sort='descending'),\n",
    "        tooltip=['value']\n",
    "    ).properties(width=2*sf, height=25*sf) \n",
    "\n",
    "\n",
    "    # BUILD COMBINED CHART\n",
    "    \n",
    "    return (bar_0 | bar_T | text_R) & ( \n",
    "        bar_L | ( ( (text_Yy) | bar_Y | text_Yn) & (bar_y | bar_a | bar_n) & (text_Ny | bar_N | text_Nn) ) \n",
    "     | bar_R )\n",
    "\n"
   ]
  },
  {
   "cell_type": "markdown",
   "metadata": {},
   "source": [
    "## Instantiate the confusion matrix chart"
   ]
  },
  {
   "cell_type": "code",
   "execution_count": 5,
   "metadata": {
    "ExecuteTime": {
     "end_time": "2020-04-21T13:23:33.643798Z",
     "start_time": "2020-04-21T13:23:33.424012Z"
    }
   },
   "outputs": [
    {
     "data": {
      "text/html": [
       "\n",
       "<div id=\"altair-viz-a69e99b71cb34b158085fb9423d763e4\"></div>\n",
       "<script type=\"text/javascript\">\n",
       "  (function(spec, embedOpt){\n",
       "    const outputDiv = document.getElementById(\"altair-viz-a69e99b71cb34b158085fb9423d763e4\");\n",
       "    const paths = {\n",
       "      \"vega\": \"https://cdn.jsdelivr.net/npm//vega@5?noext\",\n",
       "      \"vega-lib\": \"https://cdn.jsdelivr.net/npm//vega-lib?noext\",\n",
       "      \"vega-lite\": \"https://cdn.jsdelivr.net/npm//vega-lite@4.0.2?noext\",\n",
       "      \"vega-embed\": \"https://cdn.jsdelivr.net/npm//vega-embed@6?noext\",\n",
       "    };\n",
       "\n",
       "    function loadScript(lib) {\n",
       "      return new Promise(function(resolve, reject) {\n",
       "        var s = document.createElement('script');\n",
       "        s.src = paths[lib];\n",
       "        s.async = true;\n",
       "        s.onload = () => resolve(paths[lib]);\n",
       "        s.onerror = () => reject(`Error loading script: ${paths[lib]}`);\n",
       "        document.getElementsByTagName(\"head\")[0].appendChild(s);\n",
       "      });\n",
       "    }\n",
       "\n",
       "    function showError(err) {\n",
       "      outputDiv.innerHTML = `<div class=\"error\" style=\"color:red;\">${err}</div>`;\n",
       "      throw err;\n",
       "    }\n",
       "\n",
       "    function displayChart(vegaEmbed) {\n",
       "      vegaEmbed(outputDiv, spec, embedOpt)\n",
       "        .catch(err => showError(`Javascript Error: ${err.message}<br>This usually means there's a typo in your chart specification. See the javascript console for the full traceback.`));\n",
       "    }\n",
       "\n",
       "    if(typeof define === \"function\" && define.amd) {\n",
       "      requirejs.config({paths});\n",
       "      require([\"vega-embed\"], displayChart, err => showError(`Error loading script: ${err.message}`));\n",
       "    } else if (typeof vegaEmbed === \"function\") {\n",
       "      displayChart(vegaEmbed);\n",
       "    } else {\n",
       "      loadScript(\"vega\")\n",
       "        .then(() => loadScript(\"vega-lite\"))\n",
       "        .then(() => loadScript(\"vega-embed\"))\n",
       "        .catch(showError)\n",
       "        .then(() => displayChart(vegaEmbed));\n",
       "    }\n",
       "  })({\"config\": {\"view\": {\"continuousWidth\": 400, \"continuousHeight\": 300}}, \"vconcat\": [{\"hconcat\": [{\"data\": {\"name\": \"data-d84c860788e3755ada0f16de9d2b95dd\"}, \"mark\": {\"type\": \"bar\", \"size\": 30}, \"encoding\": {\"color\": {\"type\": \"nominal\", \"field\": \"label\", \"legend\": null, \"scale\": {\"domain\": [\"Yy\", \"Yn\", \"Ny\", \"Nn\", \"y|Y\", \"n|Y\", \"n|N\", \"y|N\", \"Y|y\", \"N|y\", \"N|n\", \"Y|n\", \"Y\", \"N\", \"y\", \"n\", \"Y*\", \"N*\", \"y*\", \"n*\", \"OR_lci90\", \"OR_lci95\", \"OR_lci99\", \"OR\", \"OR_uci90\", \"OR_uci95\", \"OR_uci99\", \"1\", \"ACC\", \"ACC-\", \"F1\", \"F1-\"], \"range\": [\"snow\", \"snow\", \"snow\", \"snow\", \"forestgreen\", \"palegreen\", \"powderblue\", \"cadetblue\", \"forestgreen\", \"cadetblue\", \"powderblue\", \"palegreen\", \"goldenrod\", \"gold\", \"goldenrod\", \"gold\", \"goldenrod\", \"gold\", \"goldenrod\", \"gold\", \"dodgerblue\", \"deepskyblue\", \"lightskyblue\", \"blue\", \"dodgerblue\", \"deepskyblue\", \"lightskyblue\", \"darkorange\", \"goldenrod\", \"gold\", \"goldenrod\", \"gold\"]}}, \"order\": {\"type\": \"nominal\", \"field\": \"label\", \"sort\": \"ascending\"}, \"tooltip\": [{\"type\": \"quantitative\", \"field\": \"value\"}], \"y\": {\"type\": \"quantitative\", \"aggregate\": \"sum\", \"axis\": null, \"field\": \"value\", \"stack\": \"normalize\", \"title\": null}}, \"height\": 30, \"width\": 30}, {\"data\": {\"name\": \"data-e3e04d3a81e69f22448edfaa40313c46\"}, \"mark\": {\"type\": \"bar\", \"size\": 30}, \"encoding\": {\"color\": {\"type\": \"nominal\", \"field\": \"label\", \"legend\": null, \"scale\": {\"domain\": [\"Yy\", \"Yn\", \"Ny\", \"Nn\", \"y|Y\", \"n|Y\", \"n|N\", \"y|N\", \"Y|y\", \"N|y\", \"N|n\", \"Y|n\", \"Y\", \"N\", \"y\", \"n\", \"Y*\", \"N*\", \"y*\", \"n*\", \"OR_lci90\", \"OR_lci95\", \"OR_lci99\", \"OR\", \"OR_uci90\", \"OR_uci95\", \"OR_uci99\", \"1\", \"ACC\", \"ACC-\", \"F1\", \"F1-\"], \"range\": [\"snow\", \"snow\", \"snow\", \"snow\", \"forestgreen\", \"palegreen\", \"powderblue\", \"cadetblue\", \"forestgreen\", \"cadetblue\", \"powderblue\", \"palegreen\", \"goldenrod\", \"gold\", \"goldenrod\", \"gold\", \"goldenrod\", \"gold\", \"goldenrod\", \"gold\", \"dodgerblue\", \"deepskyblue\", \"lightskyblue\", \"blue\", \"dodgerblue\", \"deepskyblue\", \"lightskyblue\", \"darkorange\", \"goldenrod\", \"gold\", \"goldenrod\", \"gold\"]}}, \"order\": {\"type\": \"nominal\", \"field\": \"label\", \"sort\": \"descending\"}, \"tooltip\": [{\"type\": \"quantitative\", \"field\": \"value\"}], \"x\": {\"type\": \"quantitative\", \"aggregate\": \"sum\", \"axis\": null, \"field\": \"value\", \"stack\": \"normalize\", \"title\": null}}, \"height\": 30, \"width\": 375}, {\"data\": {\"name\": \"data-e55f1d5c7c09d1322779cbcd6ddb05b6\"}, \"mark\": {\"type\": \"text\", \"color\": \"black\", \"fontSize\": 12}, \"encoding\": {\"text\": {\"type\": \"quantitative\", \"aggregate\": \"sum\", \"field\": \"value\", \"format\": \".1f\"}}, \"height\": 30, \"width\": 30}]}, {\"hconcat\": [{\"data\": {\"name\": \"data-6340bfad8ef1eeef8e4e54f4029934f8\"}, \"mark\": {\"type\": \"bar\", \"size\": 30}, \"encoding\": {\"color\": {\"type\": \"nominal\", \"field\": \"label\", \"legend\": null, \"scale\": {\"domain\": [\"Yy\", \"Yn\", \"Ny\", \"Nn\", \"y|Y\", \"n|Y\", \"n|N\", \"y|N\", \"Y|y\", \"N|y\", \"N|n\", \"Y|n\", \"Y\", \"N\", \"y\", \"n\", \"Y*\", \"N*\", \"y*\", \"n*\", \"OR_lci90\", \"OR_lci95\", \"OR_lci99\", \"OR\", \"OR_uci90\", \"OR_uci95\", \"OR_uci99\", \"1\", \"ACC\", \"ACC-\", \"F1\", \"F1-\"], \"range\": [\"snow\", \"snow\", \"snow\", \"snow\", \"forestgreen\", \"palegreen\", \"powderblue\", \"cadetblue\", \"forestgreen\", \"cadetblue\", \"powderblue\", \"palegreen\", \"goldenrod\", \"gold\", \"goldenrod\", \"gold\", \"goldenrod\", \"gold\", \"goldenrod\", \"gold\", \"dodgerblue\", \"deepskyblue\", \"lightskyblue\", \"blue\", \"dodgerblue\", \"deepskyblue\", \"lightskyblue\", \"darkorange\", \"goldenrod\", \"gold\", \"goldenrod\", \"gold\"]}}, \"order\": {\"type\": \"nominal\", \"field\": \"label\", \"sort\": \"ascending\"}, \"tooltip\": [{\"type\": \"quantitative\", \"field\": \"value\"}], \"y\": {\"type\": \"quantitative\", \"aggregate\": \"sum\", \"axis\": null, \"field\": \"value\", \"stack\": \"normalize\", \"title\": null}}, \"height\": 375, \"width\": 30}, {\"vconcat\": [{\"hconcat\": [{\"data\": {\"name\": \"data-d0a8b90adc8043c8be78655f68386091\"}, \"mark\": {\"type\": \"text\", \"color\": \"black\", \"fontSize\": 36}, \"encoding\": {\"text\": {\"type\": \"quantitative\", \"aggregate\": \"sum\", \"field\": \"value\", \"format\": \".0f\"}}, \"height\": 150, \"width\": 150}, {\"data\": {\"name\": \"data-f93078e6afa9a01e6a40ca6d0d01c4e7\"}, \"mark\": {\"type\": \"bar\", \"size\": 30}, \"encoding\": {\"color\": {\"type\": \"nominal\", \"field\": \"label\", \"legend\": null, \"scale\": {\"domain\": [\"Yy\", \"Yn\", \"Ny\", \"Nn\", \"y|Y\", \"n|Y\", \"n|N\", \"y|N\", \"Y|y\", \"N|y\", \"N|n\", \"Y|n\", \"Y\", \"N\", \"y\", \"n\", \"Y*\", \"N*\", \"y*\", \"n*\", \"OR_lci90\", \"OR_lci95\", \"OR_lci99\", \"OR\", \"OR_uci90\", \"OR_uci95\", \"OR_uci99\", \"1\", \"ACC\", \"ACC-\", \"F1\", \"F1-\"], \"range\": [\"snow\", \"snow\", \"snow\", \"snow\", \"forestgreen\", \"palegreen\", \"powderblue\", \"cadetblue\", \"forestgreen\", \"cadetblue\", \"powderblue\", \"palegreen\", \"goldenrod\", \"gold\", \"goldenrod\", \"gold\", \"goldenrod\", \"gold\", \"goldenrod\", \"gold\", \"dodgerblue\", \"deepskyblue\", \"lightskyblue\", \"blue\", \"dodgerblue\", \"deepskyblue\", \"lightskyblue\", \"darkorange\", \"goldenrod\", \"gold\", \"goldenrod\", \"gold\"]}}, \"order\": {\"type\": \"nominal\", \"field\": \"label\", \"sort\": \"descending\"}, \"tooltip\": [{\"type\": \"quantitative\", \"field\": \"value\"}], \"y\": {\"type\": \"quantitative\", \"aggregate\": \"sum\", \"axis\": null, \"field\": \"value\", \"stack\": \"normalize\", \"title\": null}}, \"height\": 150, \"width\": 30}, {\"data\": {\"name\": \"data-a5b474eff61f51ea6011f15c04a30740\"}, \"mark\": {\"type\": \"text\", \"color\": \"black\", \"fontSize\": 36}, \"encoding\": {\"text\": {\"type\": \"quantitative\", \"aggregate\": \"sum\", \"field\": \"value\", \"format\": \".0f\"}}, \"height\": 150, \"width\": 150}]}, {\"hconcat\": [{\"data\": {\"name\": \"data-0f106da9969044e0d7168014dc09652c\"}, \"mark\": {\"type\": \"bar\", \"size\": 30}, \"encoding\": {\"color\": {\"type\": \"nominal\", \"field\": \"label\", \"legend\": null, \"scale\": {\"domain\": [\"Yy\", \"Yn\", \"Ny\", \"Nn\", \"y|Y\", \"n|Y\", \"n|N\", \"y|N\", \"Y|y\", \"N|y\", \"N|n\", \"Y|n\", \"Y\", \"N\", \"y\", \"n\", \"Y*\", \"N*\", \"y*\", \"n*\", \"OR_lci90\", \"OR_lci95\", \"OR_lci99\", \"OR\", \"OR_uci90\", \"OR_uci95\", \"OR_uci99\", \"1\", \"ACC\", \"ACC-\", \"F1\", \"F1-\"], \"range\": [\"snow\", \"snow\", \"snow\", \"snow\", \"forestgreen\", \"palegreen\", \"powderblue\", \"cadetblue\", \"forestgreen\", \"cadetblue\", \"powderblue\", \"palegreen\", \"goldenrod\", \"gold\", \"goldenrod\", \"gold\", \"goldenrod\", \"gold\", \"goldenrod\", \"gold\", \"dodgerblue\", \"deepskyblue\", \"lightskyblue\", \"blue\", \"dodgerblue\", \"deepskyblue\", \"lightskyblue\", \"darkorange\", \"goldenrod\", \"gold\", \"goldenrod\", \"gold\"]}}, \"order\": {\"type\": \"nominal\", \"field\": \"label\", \"sort\": \"ascending\"}, \"tooltip\": [{\"type\": \"quantitative\", \"field\": \"value\"}], \"x\": {\"type\": \"quantitative\", \"aggregate\": \"sum\", \"axis\": null, \"field\": \"value\", \"stack\": \"normalize\", \"title\": null}}, \"height\": 30, \"width\": 150}, {\"data\": {\"name\": \"data-4d36da5454207094c22ec47305e67204\"}, \"mark\": {\"type\": \"bar\", \"size\": 30}, \"encoding\": {\"color\": {\"type\": \"nominal\", \"field\": \"label\", \"legend\": null, \"scale\": {\"domain\": [\"Yy\", \"Yn\", \"Ny\", \"Nn\", \"y|Y\", \"n|Y\", \"n|N\", \"y|N\", \"Y|y\", \"N|y\", \"N|n\", \"Y|n\", \"Y\", \"N\", \"y\", \"n\", \"Y*\", \"N*\", \"y*\", \"n*\", \"OR_lci90\", \"OR_lci95\", \"OR_lci99\", \"OR\", \"OR_uci90\", \"OR_uci95\", \"OR_uci99\", \"1\", \"ACC\", \"ACC-\", \"F1\", \"F1-\"], \"range\": [\"snow\", \"snow\", \"snow\", \"snow\", \"forestgreen\", \"palegreen\", \"powderblue\", \"cadetblue\", \"forestgreen\", \"cadetblue\", \"powderblue\", \"palegreen\", \"goldenrod\", \"gold\", \"goldenrod\", \"gold\", \"goldenrod\", \"gold\", \"goldenrod\", \"gold\", \"dodgerblue\", \"deepskyblue\", \"lightskyblue\", \"blue\", \"dodgerblue\", \"deepskyblue\", \"lightskyblue\", \"darkorange\", \"goldenrod\", \"gold\", \"goldenrod\", \"gold\"]}}, \"order\": {\"type\": \"nominal\", \"field\": \"label\", \"sort\": \"ascending\"}, \"tooltip\": [{\"type\": \"quantitative\", \"field\": \"value\"}], \"y\": {\"type\": \"quantitative\", \"aggregate\": \"sum\", \"axis\": null, \"field\": \"value\", \"stack\": \"normalize\", \"title\": null}}, \"height\": 30, \"width\": 30}, {\"data\": {\"name\": \"data-8aa2693b2daa4d17f00eccf962f24b46\"}, \"mark\": {\"type\": \"bar\", \"size\": 30}, \"encoding\": {\"color\": {\"type\": \"nominal\", \"field\": \"label\", \"legend\": null, \"scale\": {\"domain\": [\"Yy\", \"Yn\", \"Ny\", \"Nn\", \"y|Y\", \"n|Y\", \"n|N\", \"y|N\", \"Y|y\", \"N|y\", \"N|n\", \"Y|n\", \"Y\", \"N\", \"y\", \"n\", \"Y*\", \"N*\", \"y*\", \"n*\", \"OR_lci90\", \"OR_lci95\", \"OR_lci99\", \"OR\", \"OR_uci90\", \"OR_uci95\", \"OR_uci99\", \"1\", \"ACC\", \"ACC-\", \"F1\", \"F1-\"], \"range\": [\"snow\", \"snow\", \"snow\", \"snow\", \"forestgreen\", \"palegreen\", \"powderblue\", \"cadetblue\", \"forestgreen\", \"cadetblue\", \"powderblue\", \"palegreen\", \"goldenrod\", \"gold\", \"goldenrod\", \"gold\", \"goldenrod\", \"gold\", \"goldenrod\", \"gold\", \"dodgerblue\", \"deepskyblue\", \"lightskyblue\", \"blue\", \"dodgerblue\", \"deepskyblue\", \"lightskyblue\", \"darkorange\", \"goldenrod\", \"gold\", \"goldenrod\", \"gold\"]}}, \"order\": {\"type\": \"nominal\", \"field\": \"label\", \"sort\": \"ascending\"}, \"tooltip\": [{\"type\": \"quantitative\", \"field\": \"value\"}], \"x\": {\"type\": \"quantitative\", \"aggregate\": \"sum\", \"axis\": null, \"field\": \"value\", \"stack\": \"normalize\", \"title\": null}}, \"height\": 30, \"width\": 150}]}, {\"hconcat\": [{\"data\": {\"name\": \"data-ba5f72c91fd17e054d63c3c9db2d0716\"}, \"mark\": {\"type\": \"text\", \"color\": \"black\", \"fontSize\": 36}, \"encoding\": {\"text\": {\"type\": \"quantitative\", \"aggregate\": \"sum\", \"field\": \"value\", \"format\": \".0f\"}}, \"height\": 150, \"width\": 150}, {\"data\": {\"name\": \"data-47925a48c7d972550a53e1437d852546\"}, \"mark\": {\"type\": \"bar\", \"size\": 30}, \"encoding\": {\"color\": {\"type\": \"nominal\", \"field\": \"label\", \"legend\": null, \"scale\": {\"domain\": [\"Yy\", \"Yn\", \"Ny\", \"Nn\", \"y|Y\", \"n|Y\", \"n|N\", \"y|N\", \"Y|y\", \"N|y\", \"N|n\", \"Y|n\", \"Y\", \"N\", \"y\", \"n\", \"Y*\", \"N*\", \"y*\", \"n*\", \"OR_lci90\", \"OR_lci95\", \"OR_lci99\", \"OR\", \"OR_uci90\", \"OR_uci95\", \"OR_uci99\", \"1\", \"ACC\", \"ACC-\", \"F1\", \"F1-\"], \"range\": [\"snow\", \"snow\", \"snow\", \"snow\", \"forestgreen\", \"palegreen\", \"powderblue\", \"cadetblue\", \"forestgreen\", \"cadetblue\", \"powderblue\", \"palegreen\", \"goldenrod\", \"gold\", \"goldenrod\", \"gold\", \"goldenrod\", \"gold\", \"goldenrod\", \"gold\", \"dodgerblue\", \"deepskyblue\", \"lightskyblue\", \"blue\", \"dodgerblue\", \"deepskyblue\", \"lightskyblue\", \"darkorange\", \"goldenrod\", \"gold\", \"goldenrod\", \"gold\"]}}, \"order\": {\"type\": \"nominal\", \"field\": \"label\", \"sort\": \"descending\"}, \"tooltip\": [{\"type\": \"quantitative\", \"field\": \"value\"}], \"y\": {\"type\": \"quantitative\", \"aggregate\": \"sum\", \"axis\": null, \"field\": \"value\", \"stack\": \"normalize\", \"title\": null}}, \"height\": 150, \"width\": 30}, {\"data\": {\"name\": \"data-89e755e66741183e068a0134c976aadc\"}, \"mark\": {\"type\": \"text\", \"color\": \"black\", \"fontSize\": 36}, \"encoding\": {\"text\": {\"type\": \"quantitative\", \"aggregate\": \"sum\", \"field\": \"value\", \"format\": \".0f\"}}, \"height\": 150, \"width\": 150}]}]}, {\"data\": {\"name\": \"data-02bedd5d655f647bb5e75aa3f94a22a2\"}, \"mark\": {\"type\": \"circle\", \"opacity\": 0.8, \"size\": 150, \"stroke\": \"black\", \"strokeWidth\": 1}, \"encoding\": {\"color\": {\"type\": \"nominal\", \"field\": \"label\", \"legend\": null, \"scale\": {\"domain\": [\"Yy\", \"Yn\", \"Ny\", \"Nn\", \"y|Y\", \"n|Y\", \"n|N\", \"y|N\", \"Y|y\", \"N|y\", \"N|n\", \"Y|n\", \"Y\", \"N\", \"y\", \"n\", \"Y*\", \"N*\", \"y*\", \"n*\", \"OR_lci90\", \"OR_lci95\", \"OR_lci99\", \"OR\", \"OR_uci90\", \"OR_uci95\", \"OR_uci99\", \"1\", \"ACC\", \"ACC-\", \"F1\", \"F1-\"], \"range\": [\"snow\", \"snow\", \"snow\", \"snow\", \"forestgreen\", \"palegreen\", \"powderblue\", \"cadetblue\", \"forestgreen\", \"cadetblue\", \"powderblue\", \"palegreen\", \"goldenrod\", \"gold\", \"goldenrod\", \"gold\", \"goldenrod\", \"gold\", \"goldenrod\", \"gold\", \"dodgerblue\", \"deepskyblue\", \"lightskyblue\", \"blue\", \"dodgerblue\", \"deepskyblue\", \"lightskyblue\", \"darkorange\", \"goldenrod\", \"gold\", \"goldenrod\", \"gold\"]}}, \"order\": {\"type\": \"nominal\", \"field\": \"label\", \"sort\": \"descending\"}, \"tooltip\": [{\"type\": \"quantitative\", \"field\": \"value\"}], \"y\": {\"type\": \"quantitative\", \"axis\": null, \"field\": \"value\", \"title\": null}}, \"height\": 375, \"width\": 30}]}], \"$schema\": \"https://vega.github.io/schema/vega-lite/v4.0.2.json\", \"datasets\": {\"data-d84c860788e3755ada0f16de9d2b95dd\": [{\"label\": \"F1\", \"value\": 0.3636363636363636}, {\"label\": \"F1-\", \"value\": 0.6363636363636365}], \"data-e3e04d3a81e69f22448edfaa40313c46\": [{\"label\": \"y*\", \"value\": 0.25}, {\"label\": \"n*\", \"value\": 0.75}], \"data-e55f1d5c7c09d1322779cbcd6ddb05b6\": [{\"label\": \"OR\", \"value\": 1.8333333333333333}], \"data-6340bfad8ef1eeef8e4e54f4029934f8\": [{\"label\": \"Y*\", \"value\": 0.3}, {\"label\": \"N*\", \"value\": 0.7}], \"data-d0a8b90adc8043c8be78655f68386091\": [{\"label\": \"Yy\", \"value\": 100.0}], \"data-f93078e6afa9a01e6a40ca6d0d01c4e7\": [{\"label\": \"y|Y\", \"value\": 0.3333333333333333}, {\"label\": \"n|Y\", \"value\": 0.6666666666666666}], \"data-a5b474eff61f51ea6011f15c04a30740\": [{\"label\": \"Yn\", \"value\": 200.0}], \"data-0f106da9969044e0d7168014dc09652c\": [{\"label\": \"Y|y\", \"value\": 0.4}, {\"label\": \"N|y\", \"value\": 0.6}], \"data-4d36da5454207094c22ec47305e67204\": [{\"label\": \"ACC\", \"value\": 0.65}, {\"label\": \"ACC-\", \"value\": 0.35}], \"data-8aa2693b2daa4d17f00eccf962f24b46\": [{\"label\": \"N|n\", \"value\": 0.7333333333333333}, {\"label\": \"Y|n\", \"value\": 0.26666666666666666}], \"data-ba5f72c91fd17e054d63c3c9db2d0716\": [{\"label\": \"Ny\", \"value\": 150.0}], \"data-47925a48c7d972550a53e1437d852546\": [{\"label\": \"n|N\", \"value\": 0.7857142857142857}, {\"label\": \"y|N\", \"value\": 0.21428571428571427}], \"data-89e755e66741183e068a0134c976aadc\": [{\"label\": \"Nn\", \"value\": 550.0}], \"data-02bedd5d655f647bb5e75aa3f94a22a2\": [{\"label\": \"OR_lci90\", \"value\": 1.4259091697052548}, {\"label\": \"OR_lci95\", \"value\": 1.357670508293799}, {\"label\": \"OR_lci99\", \"value\": 1.2346120780833771}, {\"label\": \"OR\", \"value\": 1.8333333333333333}, {\"label\": \"OR_uci90\", \"value\": 2.357170556527016}, {\"label\": \"OR_uci95\", \"value\": 2.475645667029374}, {\"label\": \"OR_uci99\", \"value\": 2.7224025835944596}, {\"label\": \"1\", \"value\": 1.0}]}}, {\"mode\": \"vega-lite\"});\n",
       "</script>"
      ],
      "text/plain": [
       "alt.VConcatChart(...)"
      ]
     },
     "execution_count": 5,
     "metadata": {},
     "output_type": "execute_result"
    }
   ],
   "source": [
    "Yy = 100 ; Yn = 200 ; Ny = 150 ; Nn = 550\n",
    "\n",
    "confusion_matrix_chart(Yy, Yn, Ny, Nn)"
   ]
  }
 ],
 "metadata": {
  "kernelspec": {
   "display_name": "Python 3",
   "language": "python",
   "name": "python3"
  },
  "language_info": {
   "codemirror_mode": {
    "name": "ipython",
    "version": 3
   },
   "file_extension": ".py",
   "mimetype": "text/x-python",
   "name": "python",
   "nbconvert_exporter": "python",
   "pygments_lexer": "ipython3",
   "version": "3.6.9"
  },
  "toc": {
   "base_numbering": 1,
   "nav_menu": {},
   "number_sections": true,
   "sideBar": true,
   "skip_h1_title": false,
   "title_cell": "Table of Contents",
   "title_sidebar": "Contents",
   "toc_cell": false,
   "toc_position": {},
   "toc_section_display": true,
   "toc_window_display": false
  },
  "varInspector": {
   "cols": {
    "lenName": 16,
    "lenType": 16,
    "lenVar": 40
   },
   "kernels_config": {
    "python": {
     "delete_cmd_postfix": "",
     "delete_cmd_prefix": "del ",
     "library": "var_list.py",
     "varRefreshCmd": "print(var_dic_list())"
    },
    "r": {
     "delete_cmd_postfix": ") ",
     "delete_cmd_prefix": "rm(",
     "library": "var_list.r",
     "varRefreshCmd": "cat(var_dic_list()) "
    }
   },
   "types_to_exclude": [
    "module",
    "function",
    "builtin_function_or_method",
    "instance",
    "_Feature"
   ],
   "window_display": false
  }
 },
 "nbformat": 4,
 "nbformat_minor": 2
}
